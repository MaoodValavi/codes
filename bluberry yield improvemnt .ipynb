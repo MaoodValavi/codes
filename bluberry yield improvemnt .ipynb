{
 "cells": [
  {
   "cell_type": "code",
   "execution_count": 1,
   "id": "02b40e61",
   "metadata": {},
   "outputs": [],
   "source": [
    "import pandas as pd\n",
    "import numpy as np\n",
    "import seaborn as sns\n",
    "import matplotlib.pyplot as plt\n",
    "%matplotlib inline"
   ]
  },
  {
   "cell_type": "code",
   "execution_count": 5,
   "id": "f517f1a0",
   "metadata": {},
   "outputs": [],
   "source": [
    "dftrain=pd.read_csv(\"train.csv\")\n",
    "dftest=pd.read_csv(\"test.csv\")"
   ]
  },
  {
   "cell_type": "code",
   "execution_count": 12,
   "id": "5b4ba928",
   "metadata": {},
   "outputs": [
    {
     "name": "stdout",
     "output_type": "stream",
     "text": [
      "<class 'pandas.core.frame.DataFrame'>\n",
      "RangeIndex: 15289 entries, 0 to 15288\n",
      "Data columns (total 11 columns):\n",
      " #   Column            Non-Null Count  Dtype  \n",
      "---  ------            --------------  -----  \n",
      " 0   clonesize         15289 non-null  float64\n",
      " 1   honeybee          15289 non-null  float64\n",
      " 2   bumbles           15289 non-null  float64\n",
      " 3   andrena           15289 non-null  float64\n",
      " 4   osmia             15289 non-null  float64\n",
      " 5   MaxOfUpperTRange  15289 non-null  float64\n",
      " 6   RainingDays       15289 non-null  float64\n",
      " 7   fruitset          15289 non-null  float64\n",
      " 8   fruitmass         15289 non-null  float64\n",
      " 9   seeds             15289 non-null  float64\n",
      " 10  yield             15289 non-null  float64\n",
      "dtypes: float64(11)\n",
      "memory usage: 1.3 MB\n",
      "<class 'pandas.core.frame.DataFrame'>\n",
      "RangeIndex: 10194 entries, 0 to 10193\n",
      "Data columns (total 10 columns):\n",
      " #   Column            Non-Null Count  Dtype  \n",
      "---  ------            --------------  -----  \n",
      " 0   clonesize         10194 non-null  float64\n",
      " 1   honeybee          10194 non-null  float64\n",
      " 2   bumbles           10194 non-null  float64\n",
      " 3   andrena           10194 non-null  float64\n",
      " 4   osmia             10194 non-null  float64\n",
      " 5   MaxOfUpperTRange  10194 non-null  float64\n",
      " 6   RainingDays       10194 non-null  float64\n",
      " 7   fruitset          10194 non-null  float64\n",
      " 8   fruitmass         10194 non-null  float64\n",
      " 9   seeds             10194 non-null  float64\n",
      "dtypes: float64(10)\n",
      "memory usage: 796.5 KB\n"
     ]
    }
   ],
   "source": [
    "# Create correlation matrix\n",
    "corr_matrix = dftrain.corr().abs()\n",
    "\n",
    "# Select upper triangle of correlation matrix\n",
    "upper = corr_matrix.where(np.triu(np.ones(corr_matrix.shape), k=1).astype(bool))\n",
    "\n",
    "# Find features with correlation greater than 0.95\n",
    "to_drop = [column for column in upper.columns if any(upper[column] > 0.95)]\n",
    "\n",
    "# Drop features \n",
    "dftrain.drop(to_drop, axis=1, inplace=True)\n",
    "\n",
    "# Create correlation matrix\n",
    "corr_matrix2 = dftest.corr().abs()\n",
    "\n",
    "# Select upper triangle of correlation matrix\n",
    "upper2 = corr_matrix2.where(np.triu(np.ones(corr_matrix2.shape), k=1).astype(bool))\n",
    "\n",
    "# Find features with correlation greater than 0.95\n",
    "to_drop2 = [column for column in upper2.columns if any(upper2[column] > 0.95)]\n",
    "\n",
    "# Drop features \n",
    "dftest.drop(to_drop2, axis=1, inplace=True)\n",
    "\n",
    "\n",
    "dftrain.drop('id',axis=1,inplace=True)\n",
    "dftest.drop('id',axis=1,inplace=True)\n",
    "\n",
    "dftrain.info()\n",
    "dftest.info()"
   ]
  },
  {
   "cell_type": "code",
   "execution_count": 16,
   "id": "a04b31bf",
   "metadata": {},
   "outputs": [
    {
     "data": {
      "text/html": [
       "<div>\n",
       "<style scoped>\n",
       "    .dataframe tbody tr th:only-of-type {\n",
       "        vertical-align: middle;\n",
       "    }\n",
       "\n",
       "    .dataframe tbody tr th {\n",
       "        vertical-align: top;\n",
       "    }\n",
       "\n",
       "    .dataframe thead th {\n",
       "        text-align: right;\n",
       "    }\n",
       "</style>\n",
       "<table border=\"1\" class=\"dataframe\">\n",
       "  <thead>\n",
       "    <tr style=\"text-align: right;\">\n",
       "      <th></th>\n",
       "      <th>clonesize</th>\n",
       "      <th>honeybee</th>\n",
       "      <th>bumbles</th>\n",
       "      <th>andrena</th>\n",
       "      <th>osmia</th>\n",
       "      <th>MaxOfUpperTRange</th>\n",
       "      <th>RainingDays</th>\n",
       "      <th>fruitset</th>\n",
       "      <th>fruitmass</th>\n",
       "      <th>seeds</th>\n",
       "      <th>yield</th>\n",
       "    </tr>\n",
       "  </thead>\n",
       "  <tbody>\n",
       "    <tr>\n",
       "      <th>0</th>\n",
       "      <td>0.500000</td>\n",
       "      <td>0.027130</td>\n",
       "      <td>0.42735</td>\n",
       "      <td>1.000000</td>\n",
       "      <td>0.666667</td>\n",
       "      <td>0.000000</td>\n",
       "      <td>0.69697</td>\n",
       "      <td>0.505601</td>\n",
       "      <td>0.472087</td>\n",
       "      <td>0.423640</td>\n",
       "      <td>0.360383</td>\n",
       "    </tr>\n",
       "    <tr>\n",
       "      <th>1</th>\n",
       "      <td>0.500000</td>\n",
       "      <td>0.027130</td>\n",
       "      <td>0.42735</td>\n",
       "      <td>0.666667</td>\n",
       "      <td>0.666667</td>\n",
       "      <td>0.000000</td>\n",
       "      <td>0.69697</td>\n",
       "      <td>0.548911</td>\n",
       "      <td>0.492226</td>\n",
       "      <td>0.480664</td>\n",
       "      <td>0.512907</td>\n",
       "    </tr>\n",
       "    <tr>\n",
       "      <th>2</th>\n",
       "      <td>0.083333</td>\n",
       "      <td>0.013565</td>\n",
       "      <td>0.42735</td>\n",
       "      <td>0.840000</td>\n",
       "      <td>0.840000</td>\n",
       "      <td>0.654618</td>\n",
       "      <td>0.69697</td>\n",
       "      <td>0.784034</td>\n",
       "      <td>0.710344</td>\n",
       "      <td>0.663619</td>\n",
       "      <td>0.701073</td>\n",
       "    </tr>\n",
       "    <tr>\n",
       "      <th>3</th>\n",
       "      <td>0.083333</td>\n",
       "      <td>0.013565</td>\n",
       "      <td>0.42735</td>\n",
       "      <td>0.840000</td>\n",
       "      <td>0.666667</td>\n",
       "      <td>0.309237</td>\n",
       "      <td>0.69697</td>\n",
       "      <td>0.812440</td>\n",
       "      <td>0.742898</td>\n",
       "      <td>0.709558</td>\n",
       "      <td>0.702639</td>\n",
       "    </tr>\n",
       "    <tr>\n",
       "      <th>4</th>\n",
       "      <td>0.500000</td>\n",
       "      <td>0.027130</td>\n",
       "      <td>0.42735</td>\n",
       "      <td>0.840000</td>\n",
       "      <td>0.840000</td>\n",
       "      <td>0.309237</td>\n",
       "      <td>0.69697</td>\n",
       "      <td>0.842261</td>\n",
       "      <td>0.814536</td>\n",
       "      <td>0.751056</td>\n",
       "      <td>0.787942</td>\n",
       "    </tr>\n",
       "  </tbody>\n",
       "</table>\n",
       "</div>"
      ],
      "text/plain": [
       "   clonesize  honeybee  bumbles   andrena     osmia  MaxOfUpperTRange  \\\n",
       "0   0.500000  0.027130  0.42735  1.000000  0.666667          0.000000   \n",
       "1   0.500000  0.027130  0.42735  0.666667  0.666667          0.000000   \n",
       "2   0.083333  0.013565  0.42735  0.840000  0.840000          0.654618   \n",
       "3   0.083333  0.013565  0.42735  0.840000  0.666667          0.309237   \n",
       "4   0.500000  0.027130  0.42735  0.840000  0.840000          0.309237   \n",
       "\n",
       "   RainingDays  fruitset  fruitmass     seeds     yield  \n",
       "0      0.69697  0.505601   0.472087  0.423640  0.360383  \n",
       "1      0.69697  0.548911   0.492226  0.480664  0.512907  \n",
       "2      0.69697  0.784034   0.710344  0.663619  0.701073  \n",
       "3      0.69697  0.812440   0.742898  0.709558  0.702639  \n",
       "4      0.69697  0.842261   0.814536  0.751056  0.787942  "
      ]
     },
     "execution_count": 16,
     "metadata": {},
     "output_type": "execute_result"
    }
   ],
   "source": [
    "from sklearn.preprocessing import MinMaxScaler\n",
    "sc=MinMaxScaler()\n",
    "dftrainsc = sc.fit_transform(dftrain)\n",
    "dftestsc=sc.fit_transform(dftest)\n",
    "dftrainscaled = pd.DataFrame(dftrainsc, columns = ['clonesize', 'honeybee', 'bumbles', 'andrena', 'osmia',\n",
    "       'MaxOfUpperTRange', 'RainingDays', 'fruitset', 'fruitmass', 'seeds',\n",
    "       'yield'])\n",
    "dftestscaled = pd.DataFrame(dftestsc, columns = ['clonesize', 'honeybee', 'bumbles', 'andrena', 'osmia',\n",
    "       'MaxOfUpperTRange', 'RainingDays', 'fruitset', 'fruitmass', 'seeds'])\n",
    "dftrainscaled.head()\n"
   ]
  },
  {
   "cell_type": "code",
   "execution_count": 41,
   "id": "46c3d456",
   "metadata": {},
   "outputs": [
    {
     "data": {
      "text/html": [
       "<div>\n",
       "<style scoped>\n",
       "    .dataframe tbody tr th:only-of-type {\n",
       "        vertical-align: middle;\n",
       "    }\n",
       "\n",
       "    .dataframe tbody tr th {\n",
       "        vertical-align: top;\n",
       "    }\n",
       "\n",
       "    .dataframe thead th {\n",
       "        text-align: right;\n",
       "    }\n",
       "</style>\n",
       "<table border=\"1\" class=\"dataframe\">\n",
       "  <thead>\n",
       "    <tr style=\"text-align: right;\">\n",
       "      <th></th>\n",
       "      <th>clonesize</th>\n",
       "      <th>honeybee</th>\n",
       "      <th>bumbles</th>\n",
       "      <th>andrena</th>\n",
       "      <th>osmia</th>\n",
       "      <th>MaxOfUpperTRange</th>\n",
       "      <th>RainingDays</th>\n",
       "      <th>fruitset</th>\n",
       "      <th>fruitmass</th>\n",
       "      <th>seeds</th>\n",
       "    </tr>\n",
       "  </thead>\n",
       "  <tbody>\n",
       "    <tr>\n",
       "      <th>0</th>\n",
       "      <td>0.545455</td>\n",
       "      <td>0.013565</td>\n",
       "      <td>0.427350</td>\n",
       "      <td>0.333333</td>\n",
       "      <td>0.333333</td>\n",
       "      <td>0.654618</td>\n",
       "      <td>0.696970</td>\n",
       "      <td>0.396122</td>\n",
       "      <td>0.429817</td>\n",
       "      <td>0.324213</td>\n",
       "    </tr>\n",
       "    <tr>\n",
       "      <th>1</th>\n",
       "      <td>0.090909</td>\n",
       "      <td>0.013565</td>\n",
       "      <td>0.427350</td>\n",
       "      <td>1.000000</td>\n",
       "      <td>0.840000</td>\n",
       "      <td>1.000000</td>\n",
       "      <td>0.000000</td>\n",
       "      <td>0.607978</td>\n",
       "      <td>0.585255</td>\n",
       "      <td>0.574107</td>\n",
       "    </tr>\n",
       "    <tr>\n",
       "      <th>2</th>\n",
       "      <td>0.090909</td>\n",
       "      <td>0.013565</td>\n",
       "      <td>0.427350</td>\n",
       "      <td>0.840000</td>\n",
       "      <td>0.840000</td>\n",
       "      <td>0.654618</td>\n",
       "      <td>0.454545</td>\n",
       "      <td>0.835721</td>\n",
       "      <td>0.782767</td>\n",
       "      <td>0.720343</td>\n",
       "    </tr>\n",
       "    <tr>\n",
       "      <th>3</th>\n",
       "      <td>0.545455</td>\n",
       "      <td>0.027130</td>\n",
       "      <td>0.649573</td>\n",
       "      <td>0.506667</td>\n",
       "      <td>0.840000</td>\n",
       "      <td>0.654618</td>\n",
       "      <td>0.454545</td>\n",
       "      <td>0.476504</td>\n",
       "      <td>0.495780</td>\n",
       "      <td>0.403114</td>\n",
       "    </tr>\n",
       "    <tr>\n",
       "      <th>4</th>\n",
       "      <td>1.000000</td>\n",
       "      <td>0.040695</td>\n",
       "      <td>0.427350</td>\n",
       "      <td>0.333333</td>\n",
       "      <td>0.333333</td>\n",
       "      <td>1.000000</td>\n",
       "      <td>0.696970</td>\n",
       "      <td>0.304454</td>\n",
       "      <td>0.343879</td>\n",
       "      <td>0.240040</td>\n",
       "    </tr>\n",
       "  </tbody>\n",
       "</table>\n",
       "</div>"
      ],
      "text/plain": [
       "   clonesize  honeybee   bumbles   andrena     osmia  MaxOfUpperTRange  \\\n",
       "0   0.545455  0.013565  0.427350  0.333333  0.333333          0.654618   \n",
       "1   0.090909  0.013565  0.427350  1.000000  0.840000          1.000000   \n",
       "2   0.090909  0.013565  0.427350  0.840000  0.840000          0.654618   \n",
       "3   0.545455  0.027130  0.649573  0.506667  0.840000          0.654618   \n",
       "4   1.000000  0.040695  0.427350  0.333333  0.333333          1.000000   \n",
       "\n",
       "   RainingDays  fruitset  fruitmass     seeds  \n",
       "0     0.696970  0.396122   0.429817  0.324213  \n",
       "1     0.000000  0.607978   0.585255  0.574107  \n",
       "2     0.454545  0.835721   0.782767  0.720343  \n",
       "3     0.454545  0.476504   0.495780  0.403114  \n",
       "4     0.696970  0.304454   0.343879  0.240040  "
      ]
     },
     "execution_count": 41,
     "metadata": {},
     "output_type": "execute_result"
    }
   ],
   "source": [
    "from sklearn.preprocessing import MinMaxScaler\n",
    "sc=MinMaxScaler()\n",
    "\n",
    "dftrain[['clonesize', 'honeybee', 'bumbles', 'andrena', 'osmia',\n",
    "       'MaxOfUpperTRange', 'RainingDays', 'fruitset', 'fruitmass', 'seeds']] = sc.fit_transform(dftrain[['clonesize', 'honeybee', 'bumbles', 'andrena', 'osmia',\n",
    "       'MaxOfUpperTRange', 'RainingDays', 'fruitset', 'fruitmass', 'seeds']])\n",
    "\n",
    "\n",
    "\n",
    "\n",
    "dftestsc=sc.fit_transform(dftest)\n",
    "\n",
    "dftrainscaled = pd.DataFrame(dftrain, columns = ['clonesize', 'honeybee', 'bumbles', 'andrena', 'osmia',\n",
    "       'MaxOfUpperTRange', 'RainingDays', 'fruitset', 'fruitmass', 'seeds','yield'])\n",
    "dftestscaled = pd.DataFrame(dftestsc, columns = ['clonesize', 'honeybee', 'bumbles', 'andrena', 'osmia',\n",
    "       'MaxOfUpperTRange', 'RainingDays', 'fruitset', 'fruitmass', 'seeds'])\n",
    "\n",
    "\n",
    "dftrainscaled.head()\n",
    "dftestscaled.head()"
   ]
  },
  {
   "cell_type": "code",
   "execution_count": 44,
   "id": "2361d728",
   "metadata": {},
   "outputs": [],
   "source": [
    "X=dftrainscaled.drop(\"yield\",axis=1)\n",
    "y=dftrainscaled[\"yield\"]"
   ]
  },
  {
   "cell_type": "code",
   "execution_count": 45,
   "id": "87511411",
   "metadata": {},
   "outputs": [],
   "source": [
    "from sklearn.model_selection import train_test_split"
   ]
  },
  {
   "cell_type": "code",
   "execution_count": 47,
   "id": "3f7927c7",
   "metadata": {},
   "outputs": [],
   "source": [
    "X_train, X_test, y_train, y_test = train_test_split(X, y, test_size=0.33, random_state=42)"
   ]
  },
  {
   "cell_type": "code",
   "execution_count": 48,
   "id": "2c70459b",
   "metadata": {},
   "outputs": [],
   "source": [
    "from sklearn.linear_model import LinearRegression"
   ]
  },
  {
   "cell_type": "code",
   "execution_count": 50,
   "id": "757a3fea",
   "metadata": {},
   "outputs": [],
   "source": [
    "lr=LinearRegression()"
   ]
  },
  {
   "cell_type": "code",
   "execution_count": 52,
   "id": "d82e312c",
   "metadata": {},
   "outputs": [
    {
     "data": {
      "text/plain": [
       "LinearRegression()"
      ]
     },
     "execution_count": 52,
     "metadata": {},
     "output_type": "execute_result"
    }
   ],
   "source": [
    "lr.fit(X,y)"
   ]
  },
  {
   "cell_type": "code",
   "execution_count": 53,
   "id": "285fad7b",
   "metadata": {},
   "outputs": [],
   "source": [
    "predictionlr1=lr.predict(X_test)"
   ]
  },
  {
   "cell_type": "code",
   "execution_count": 54,
   "id": "30728a01",
   "metadata": {},
   "outputs": [],
   "source": [
    "from sklearn.metrics import mean_squared_error"
   ]
  },
  {
   "cell_type": "code",
   "execution_count": 55,
   "id": "77cc1c11",
   "metadata": {},
   "outputs": [
    {
     "data": {
      "text/plain": [
       "343347.0586701495"
      ]
     },
     "execution_count": 55,
     "metadata": {},
     "output_type": "execute_result"
    }
   ],
   "source": [
    "mean_squared_error(predictionlr1,y_test)"
   ]
  },
  {
   "cell_type": "code",
   "execution_count": 56,
   "id": "b722d2e7",
   "metadata": {},
   "outputs": [],
   "source": [
    "predictionlr1=lr.predict(dftestscaled)"
   ]
  },
  {
   "cell_type": "code",
   "execution_count": 57,
   "id": "046f636c",
   "metadata": {},
   "outputs": [],
   "source": [
    "dfx = pd.DataFrame(predictionlr1,columns = ['Column_A'])"
   ]
  },
  {
   "cell_type": "code",
   "execution_count": 58,
   "id": "4305f34c",
   "metadata": {},
   "outputs": [],
   "source": [
    "dfx.to_csv('masood.csv')"
   ]
  },
  {
   "cell_type": "code",
   "execution_count": 59,
   "id": "337f3df1",
   "metadata": {},
   "outputs": [],
   "source": [
    "from sklearn.ensemble import RandomForestRegressor"
   ]
  },
  {
   "cell_type": "code",
   "execution_count": 61,
   "id": "b9a03a96",
   "metadata": {},
   "outputs": [],
   "source": [
    "rf1=RandomForestRegressor()"
   ]
  },
  {
   "cell_type": "code",
   "execution_count": 63,
   "id": "68c6d7dd",
   "metadata": {},
   "outputs": [
    {
     "data": {
      "text/plain": [
       "RandomForestRegressor()"
      ]
     },
     "execution_count": 63,
     "metadata": {},
     "output_type": "execute_result"
    }
   ],
   "source": [
    "rf1.fit(X_train,y_train)"
   ]
  },
  {
   "cell_type": "code",
   "execution_count": 65,
   "id": "1fd6e489",
   "metadata": {},
   "outputs": [],
   "source": [
    "predictionlrf1=rf1.predict(dftestscaled)\n",
    "dfx = pd.DataFrame(predictionlrf1,columns = ['Column_A'])\n"
   ]
  },
  {
   "cell_type": "code",
   "execution_count": 67,
   "id": "fd34e8e2",
   "metadata": {},
   "outputs": [],
   "source": [
    "dfx.to_csv('masoodrf1.csv')"
   ]
  },
  {
   "cell_type": "code",
   "execution_count": null,
   "id": "39195efc",
   "metadata": {},
   "outputs": [],
   "source": [
    "# think about why your first run was the best maybe because you used more columns so this time do not delete any columns"
   ]
  }
 ],
 "metadata": {
  "kernelspec": {
   "display_name": "Python 3 (ipykernel)",
   "language": "python",
   "name": "python3"
  },
  "language_info": {
   "codemirror_mode": {
    "name": "ipython",
    "version": 3
   },
   "file_extension": ".py",
   "mimetype": "text/x-python",
   "name": "python",
   "nbconvert_exporter": "python",
   "pygments_lexer": "ipython3",
   "version": "3.9.13"
  }
 },
 "nbformat": 4,
 "nbformat_minor": 5
}
